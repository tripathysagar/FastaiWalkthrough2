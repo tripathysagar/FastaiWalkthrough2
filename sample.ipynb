{
 "cells": [
  {
   "cell_type": "markdown",
   "id": "764b6262-f891-4192-88cd-6630d5cf2bac",
   "metadata": {},
   "source": [
    "### Demo Notebook"
   ]
  },
  {
   "cell_type": "markdown",
   "id": "73255fac-9e90-46b1-835b-1635755935d8",
   "metadata": {},
   "source": []
  }
 ],
 "metadata": {
  "kernelspec": {
   "display_name": "Python 3 (ipykernel)",
   "language": "python",
   "name": "python3"
  },
  "language_info": {
   "codemirror_mode": {
    "name": "ipython",
    "version": 3
   },
   "file_extension": ".py",
   "mimetype": "text/x-python",
   "name": "python",
   "nbconvert_exporter": "python",
   "pygments_lexer": "ipython3",
   "version": "3.9.13"
  }
 },
 "nbformat": 4,
 "nbformat_minor": 5
}
